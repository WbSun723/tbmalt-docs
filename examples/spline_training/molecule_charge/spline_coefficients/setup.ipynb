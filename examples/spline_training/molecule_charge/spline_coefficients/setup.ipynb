{
 "cells": [
  {
   "cell_type": "markdown",
   "id": "1880a09e-8a5e-465e-af5a-190925376060",
   "metadata": {},
   "source": [
    "## Download the DFTB parameter set"
   ]
  },
  {
   "cell_type": "code",
   "execution_count": 1,
   "id": "f5f72841-4449-4f48-8ad9-a92e4e422cf0",
   "metadata": {},
   "outputs": [],
   "source": [
    "from os.path import join\n",
    "import urllib, tempfile, tarfile\n",
    "\n",
    "import torch\n",
    "\n",
    "from tbmalt.io.skf import Skf\n",
    "torch.set_default_dtype(torch.float64)"
   ]
  },
  {
   "cell_type": "code",
   "execution_count": 2,
   "id": "5182a29a-aa22-4a9b-8d70-306bfbb4af3f",
   "metadata": {},
   "outputs": [],
   "source": [
    "# Link to the auorg-1-1 parameter set\n",
    "link = 'https://github.com/dftbparams/auorg/releases/download/v1.1.0/auorg-1-1.tar.xz'\n",
    "\n",
    "# Elements of interest\n",
    "elements = ['H', 'C', 'N', 'O', 'S', 'Au']\n",
    "\n",
    "# Path of the parameter set\n",
    "parameter_db_path = \"example_dftb_parameters.h5\"\n",
    "\n",
    "with tempfile.TemporaryDirectory() as tmpdir:\n",
    "\n",
    "    # Download and extract the auorg parameter set to the temporary directory\n",
    "    urllib.request.urlretrieve(link, path := join(tmpdir, 'auorg-1-1.tar.xz'))\n",
    "    with tarfile.open(path) as tar:\n",
    "        tar.extractall(tmpdir)\n",
    "\n",
    "    # Select the relevant skf files and place them into an HDF5 database\n",
    "    skf_files = [join(tmpdir, 'auorg-1-1', f'{i}-{j}.skf')\n",
    "                 for i in elements for j in elements]\n",
    "\n",
    "    for skf_file in skf_files:\n",
    "        Skf.read(skf_file).write(parameter_db_path)"
   ]
  },
  {
   "cell_type": "code",
   "execution_count": null,
   "id": "0182aafb-fbf2-4694-8279-64b1a7eb8e49",
   "metadata": {},
   "outputs": [],
   "source": []
  }
 ],
 "metadata": {
  "kernelspec": {
   "display_name": "Python 3 (ipykernel)",
   "language": "python",
   "name": "python3"
  },
  "language_info": {
   "codemirror_mode": {
    "name": "ipython",
    "version": 3
   },
   "file_extension": ".py",
   "mimetype": "text/x-python",
   "name": "python",
   "nbconvert_exporter": "python",
   "pygments_lexer": "ipython3",
   "version": "3.12.3"
  }
 },
 "nbformat": 4,
 "nbformat_minor": 5
}
