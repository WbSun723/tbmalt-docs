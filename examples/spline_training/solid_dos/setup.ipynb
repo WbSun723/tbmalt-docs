{
 "cells": [
  {
   "cell_type": "markdown",
   "id": "1880a09e-8a5e-465e-af5a-190925376060",
   "metadata": {},
   "source": [
    "## Download the DFTB parameter set"
   ]
  },
  {
   "cell_type": "code",
   "execution_count": 43,
   "id": "f5f72841-4449-4f48-8ad9-a92e4e422cf0",
   "metadata": {},
   "outputs": [],
   "source": [
    "import os\n",
    "import urllib, tempfile, zipfile\n",
    "\n",
    "torch.set_default_dtype(torch.float64)"
   ]
  },
  {
   "cell_type": "code",
   "execution_count": 44,
   "id": "5182a29a-aa22-4a9b-8d70-306bfbb4af3f",
   "metadata": {},
   "outputs": [
    {
     "data": {
      "text/plain": [
       "0"
      ]
     },
     "execution_count": 44,
     "metadata": {},
     "output_type": "execute_result"
    }
   ],
   "source": [
    "# Link to the Supplementary Material of TBMaLT paper\n",
    "link = 'https://pubs.aip.org/jcp/article-supplement/2871182/zip/034801_1_5.0132892.suppl_material/'\n",
    "output_file = \"suppl_material.zip\"\n",
    "\n",
    "# Create a request with a custom User-Agent header\n",
    "headers = {\n",
    "    \"User-Agent\": \"Mozilla/5.0 (Windows NT 10.0; Win64; x64) AppleWebKit/537.36 (KHTML, like Gecko) Chrome/131.0.0.0 Safari/537.36\",\n",
    "    \"Referer\": \"https://pubs.aip.org/aip/jcp/article/158/3/034801/2871182/TBMaLT-a-flexible-toolkit-for-combining-tight\",\n",
    "    \"Cookie\": \"osano_consentmanager_uuid=a0182e4e-5fb7-4789-8317-915a39a0b368; AIP_PublishingMachineID=638532646318355455; osano_consentmanager=XSg09rjuH_EUD2gXRBUV5IKff3ckeWO2q0-UE78e44gj4GLiSVdAxT1V2jfiENuvAM97JgaOCBN-gs6XuADu91usAYhoU-YVsUXfETY1t0IvQPs8CP_63THlv36VPl-pwMHQrPNMJTgWavnfcfy_u1G97lm9RdJt9X6dlq42FECK0-BdZNxT6yGaQGdMPmHUCzpMeTIMtHMDXnMqsLjLYZWMOl7bRzw7SaumFVstUX4YWotzG5KTrh0NQ5iW8H1nKiFTX8X5op7CtupiyQ7-3DFFccNChT2-VzgXllN4NrNwRPqwxyZwKD4lcM7-eK3WGY5xxJh5g4RMjdBGams2E2LiGX_OqG0C0Wk7Cx5zx6-deNBn9SWa8u7QRbC6gj2C1nF1BU38l2v8yrbWKrdqQgUrrcpdhZC6pDYWjzMSegBcJKlYHKT2b-pc3_iEIFlJFkOTFJr30t3qocl_27biQ2Dr8DD6AXBVK8mV_FIe1AaJioPFWqlc1GTWpmH9rpw1qVK9S_OUi7q2FbjRfr1CFOSh0RMyJq3QfaKi6vJa4X7KOZq5V4rg0rDaEkk=; AIPP_SessionId=xyb53kph2spdeckype2ejldd; pageviewCount=3; cf_clearance=.6CbCfvhbMuiodOv7c4PSHQy1_fxzro0YQePEeYwQZs-1736521200-1.2.1.1-zuCZlHH1XVam9OntVP1HpcraQcVuZ3MbZSyQgXuf1sc7.9ZHKxT5VKU0bOwd5L9R9ja8GWadfAAqLpKOZOb2..WuixuuPtnozIw9le3yq2uNH5dJlCDCAd8u2g0.KjyGUJxQJ2HBSyW4JIJgaW5UsCO96pJ.n7IncXE5PC3R7eMCmSUdQpZbax_mCUAeb2nsMNbjclxtKOg7hnITZNRvkYsXZm3uw1NfjOgN.MZlRjPzPxyTcvnLiT9wm8fuaUmuBKWNpe5kglem9TKH6VHe96HCpydrfflrHQ7C3NzbXpdzK5O9Ecq_mPk.QTsxvOY27RAZT4gCIXjmHVx.Iqf5zPAwTl3aIgtsLUFvc6eZuTATq2iUj9J.FCJHAjL6i2uHtd9kP77Wb2bL3akjf6kl_A; __cf_bm=KOPuymYUPgNva5sc2yi.5DIZudUsMyYOjZwZmXSi648-1736524631-1.0.1.1-Y1_InruhBU7wIZ1Lg6mtyxIp_ltcRIX0Q4RFPLe4RcQua7AfgL4sY0r4exq8JHYcm.Q5_HtU16msYdxB6x747w\"  \n",
    "}\n",
    "\n",
    "\n",
    "# Download the Supplementary Material to the temporary directory\n",
    "tmp = \"./tmp/\"\n",
    "req = urllib.request.Request(link, headers=headers)\n",
    "with urllib.request.urlopen(req) as response, open(output_file, 'wb') as out_file:\n",
    "    out_file.write(response.read())\n",
    "\n",
    "# Extract the parameter set\n",
    "with zipfile.ZipFile(output_file, 'r') as zip_ref:\n",
    "    zip_ref.extractall(tmp)\n",
    "\n",
    "with zipfile.ZipFile(tmp + \"/data.zip\", 'r') as zip_ref:\n",
    "    zip_ref.extractall(\"./\")\n",
    "\n",
    "os.remove(output_file)\n",
    "os.system(\"rm -rf \" + tmp)"
   ]
  },
  {
   "cell_type": "code",
   "execution_count": null,
   "id": "0182aafb-fbf2-4694-8279-64b1a7eb8e49",
   "metadata": {},
   "outputs": [],
   "source": []
  }
 ],
 "metadata": {
  "kernelspec": {
   "display_name": "Python 3 (ipykernel)",
   "language": "python",
   "name": "python3"
  },
  "language_info": {
   "codemirror_mode": {
    "name": "ipython",
    "version": 3
   },
   "file_extension": ".py",
   "mimetype": "text/x-python",
   "name": "python",
   "nbconvert_exporter": "python",
   "pygments_lexer": "ipython3",
   "version": "3.12.3"
  }
 },
 "nbformat": 4,
 "nbformat_minor": 5
}
